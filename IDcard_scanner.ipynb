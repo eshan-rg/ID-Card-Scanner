{
  "nbformat": 4,
  "nbformat_minor": 0,
  "metadata": {
    "colab": {
      "provenance": []
    },
    "kernelspec": {
      "name": "python3",
      "display_name": "Python 3"
    },
    "language_info": {
      "name": "python"
    }
  },
  "cells": [
    {
      "cell_type": "markdown",
      "source": [
        "## PAN Card Scanner\n",
        "\n",
        "Note: The code cell outputs have been removed for privacy purposes. You can upload your PAN Card image to test the code.\n"
      ],
      "metadata": {
        "id": "TnRJJ3bdTZ-J"
      }
    },
    {
      "cell_type": "code",
      "source": [
        "! apt install tesseract-ocr\n",
        "! apt install libtesseract-dev"
      ],
      "metadata": {
        "id": "YWCr3GGNQFtC"
      },
      "execution_count": null,
      "outputs": []
    },
    {
      "cell_type": "code",
      "metadata": {
        "id": "iBYtIJzNSlYz"
      },
      "source": [
        "pip install pytesseract"
      ],
      "execution_count": null,
      "outputs": []
    },
    {
      "cell_type": "code",
      "source": [
        "pip install tesseract"
      ],
      "metadata": {
        "id": "dEwzlNxEQSn5"
      },
      "execution_count": null,
      "outputs": []
    },
    {
      "cell_type": "code",
      "metadata": {
        "id": "VpMntOJZPyzf"
      },
      "source": [
        "#imports\n",
        "import cv2\n",
        "import pytesseract\n",
        "from google.colab.patches import cv2_imshow\n",
        "import matplotlib.pyplot as plt\n",
        "from google.colab import files\n",
        "import PIL\n",
        "from PIL import Image"
      ],
      "execution_count": 10,
      "outputs": []
    },
    {
      "cell_type": "code",
      "metadata": {
        "id": "fwHDa57bWsG6"
      },
      "source": [
        "#Upload PAN image from device\n",
        "file_name=files.upload()"
      ],
      "execution_count": null,
      "outputs": []
    },
    {
      "cell_type": "code",
      "metadata": {
        "id": "pfK3hCxtX2bx"
      },
      "source": [
        "img = cv2.imread('PAN.jpg')\n",
        "plt.imshow(img)"
      ],
      "execution_count": 41,
      "outputs": []
    },
    {
      "cell_type": "code",
      "metadata": {
        "id": "S2AkxrU9Y-Lc"
      },
      "source": [
        "img = cv2.cvtColor(img,cv2.COLOR_BGR2RGB)\n",
        "plt.imshow(img)"
      ],
      "execution_count": 43,
      "outputs": []
    },
    {
      "cell_type": "code",
      "metadata": {
        "id": "8_b2Q93vZlfY"
      },
      "source": [
        "#Converts everything in the image to text\n",
        "print(pytesseract.image_to_string(img))"
      ],
      "execution_count": null,
      "outputs": []
    },
    {
      "cell_type": "code",
      "metadata": {
        "id": "kzEmXlGlee7j"
      },
      "source": [
        "image = PIL.Image.open(\"PAN.jpg\")"
      ],
      "execution_count": 46,
      "outputs": []
    },
    {
      "cell_type": "code",
      "metadata": {
        "id": "scrssmxkenho"
      },
      "source": [
        "width, height = image.size\n",
        "print(width, height)"
      ],
      "execution_count": null,
      "outputs": []
    },
    {
      "cell_type": "code",
      "metadata": {
        "id": "USjCPxZbuoRJ"
      },
      "source": [
        "Nameleft=0\n",
        "Nameright=int(round(width/2))\n",
        "Nametop=int(round(height/1.7))\n",
        "Namebottom=int(round(height/1.57))"
      ],
      "execution_count": 49,
      "outputs": []
    },
    {
      "cell_type": "code",
      "metadata": {
        "id": "9QF9lD9egAPe"
      },
      "source": [
        "#Cropping out the name of the person\n",
        "Nameofperson = image.crop((Nameleft,Nametop,Nameright,Namebottom))\n",
        "plt.imshow(Nameofperson)"
      ],
      "execution_count": 50,
      "outputs": []
    },
    {
      "cell_type": "code",
      "metadata": {
        "id": "iOfObZAIgfU1"
      },
      "source": [
        "print(pytesseract.image_to_string(Nameofperson))"
      ],
      "execution_count": null,
      "outputs": []
    },
    {
      "cell_type": "code",
      "metadata": {
        "id": "6sE5yqKZwzRm"
      },
      "source": [
        "Numberleft=int(round(width/3.22))\n",
        "Numberright=int(round(width/1.733))\n",
        "Numbertop=int(round(height/2.35))\n",
        "Numberbottom=int(round(height/2))"
      ],
      "execution_count": 53,
      "outputs": []
    },
    {
      "cell_type": "code",
      "metadata": {
        "id": "Mt_0SX-IgvGI"
      },
      "source": [
        "#Cropping out the PAN Number of the person\n",
        "PANnumber = image.crop((Numberleft,Numbertop,Numberright,Numberbottom))\n",
        "plt.imshow(PANnumber)"
      ],
      "execution_count": 54,
      "outputs": []
    },
    {
      "cell_type": "code",
      "metadata": {
        "id": "Mp0Nb4zPhcJu"
      },
      "source": [
        "Number = pytesseract.image_to_string(PANnumber)\n",
        "print(Number)"
      ],
      "execution_count": 56,
      "outputs": []
    }
  ]
}